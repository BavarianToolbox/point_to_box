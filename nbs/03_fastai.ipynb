{
 "cells": [
  {
   "cell_type": "code",
   "execution_count": null,
   "id": "enabling-dining",
   "metadata": {},
   "outputs": [],
   "source": [
    "# default_exp fastai"
   ]
  },
  {
   "cell_type": "markdown",
   "id": "three-river",
   "metadata": {},
   "source": [
    "# fastai\n",
    "\n",
    "> Everything necessary to make PTB fastai compatible"
   ]
  },
  {
   "cell_type": "code",
   "execution_count": null,
   "id": "negative-disorder",
   "metadata": {},
   "outputs": [],
   "source": [
    "#hide\n",
    "%reload_ext autoreload\n",
    "%autoreload 2\n",
    "from nbdev.showdoc import *\n",
    "from fastcore.test import *"
   ]
  },
  {
   "cell_type": "code",
   "execution_count": null,
   "id": "scheduled-optimization",
   "metadata": {},
   "outputs": [],
   "source": [
    "#hide\n",
    "#export\n",
    "import point_to_box.utils as utils\n",
    "import point_to_box.data as ptb_data\n",
    "import point_to_box.model as ptb_model"
   ]
  },
  {
   "cell_type": "code",
   "execution_count": null,
   "id": "mediterranean-toyota",
   "metadata": {},
   "outputs": [],
   "source": [
    "#hide\n",
    "from fastai.vision.all import *\n",
    "from fastai.data.core import DataLoaders\n",
    "\n",
    "# from torch.utils.data import DataLoader\n",
    "from torchvision import transforms"
   ]
  },
  {
   "cell_type": "code",
   "execution_count": null,
   "id": "orange-reliance",
   "metadata": {},
   "outputs": [],
   "source": [
    "#hide\n",
    "SRC = Path('../../data/val2017/')\n",
    "DST = Path('../../converted_data')\n",
    "ANNOS = 'instances_val2017.json'"
   ]
  },
  {
   "cell_type": "code",
   "execution_count": null,
   "id": "saved-desire",
   "metadata": {},
   "outputs": [],
   "source": []
  },
  {
   "cell_type": "code",
   "execution_count": null,
   "id": "complete-logging",
   "metadata": {},
   "outputs": [
    {
     "name": "stdout",
     "output_type": "stream",
     "text": [
      "loading annotations into memory...\n",
      "Done (t=0.29s)\n",
      "creating index...\n",
      "index created!\n",
      "loading annotations into memory...\n",
      "Done (t=0.05s)\n",
      "creating index...\n",
      "index created!\n"
     ]
    }
   ],
   "source": [
    "#hide\n",
    "norm_format = 'img_net_4ch'\n",
    "# box_format = 'corner_ofst_frac'\n",
    "\n",
    "\n",
    "if norm_format == 'img_net':\n",
    "    norm_stats = ([0.485, 0.456, 0.406], [0.229, 0.224, 0.225])\n",
    "    norm_chnls = 3\n",
    "elif norm_format == 'img_net_4ch':\n",
    "    norm_stats = ([0.485, 0.456, 0.406, 1.993e-05], \n",
    "                  [0.229, 0.224, 0.225, 0.0045])\n",
    "    norm_chnls = 4\n",
    "\n",
    "data_transforms = {\n",
    "    'train': transforms.Compose([\n",
    "#         transforms.RandomResizedCrop(224),\n",
    "#         transforms.RandomHorizontalFlip(),\n",
    "#         transforms.ToTensor(),\n",
    "        transforms.Normalize(*norm_stats)\n",
    "    ]),\n",
    "    'val': transforms.Compose([\n",
    "#         transforms.Resize(256),\n",
    "#         transforms.CenterCrop(224),\n",
    "#         transforms.ToTensor(),\n",
    "        transforms.Normalize(*norm_stats)\n",
    "    ]),\n",
    "}\n",
    "\n",
    "# ptbdata = data.PTBDataset(\n",
    "#     root = DST/'train',\n",
    "#     annos = DST/('train/train_individual_'+ANNOS),\n",
    "#     box_format = 'corner_ofst_frac')\n",
    "\n",
    "\n",
    "image_datasets = {\n",
    "    'train': ptb_data.PTBDataset(\n",
    "        root = DST/'train',\n",
    "        annos = DST/('train/train_individual_'+ANNOS),\n",
    "        tfms = data_transforms['train'],\n",
    "        norm_chnls = norm_chnls),\n",
    "    \n",
    "    'val': ptb_data.PTBDataset(\n",
    "        root = DST/'val',\n",
    "        annos = DST/('val/val_individual_'+ANNOS),\n",
    "        tfms = data_transforms['val'],\n",
    "        norm_chnls = norm_chnls)\n",
    "}\n",
    "\n",
    "batch_sizes = {'train':4,'val':4}\n",
    "\n",
    "dataloaders = {x: DataLoader(image_datasets[x], batch_size=batch_sizes[x],\n",
    "                             shuffle=True, num_workers=4)\n",
    "              for x in ['train', 'val']}\n",
    "\n",
    "dataset_sizes = {x: len(image_datasets[x]) for x in ['train', 'val']}\n",
    "\n",
    "# device = torch.device(\"cuda:0\" if torch.cuda.is_available() else \"cpu\")"
   ]
  },
  {
   "cell_type": "code",
   "execution_count": null,
   "id": "suspended-correlation",
   "metadata": {},
   "outputs": [],
   "source": []
  },
  {
   "cell_type": "code",
   "execution_count": null,
   "id": "motivated-killer",
   "metadata": {},
   "outputs": [],
   "source": [
    "#hide\n",
    "dls = DataLoaders(dataloaders['train'], dataloaders['val'])"
   ]
  },
  {
   "cell_type": "code",
   "execution_count": null,
   "id": "operating-climb",
   "metadata": {},
   "outputs": [],
   "source": []
  },
  {
   "cell_type": "code",
   "execution_count": null,
   "id": "casual-porter",
   "metadata": {},
   "outputs": [],
   "source": []
  },
  {
   "cell_type": "code",
   "execution_count": null,
   "id": "temporal-parade",
   "metadata": {},
   "outputs": [],
   "source": []
  },
  {
   "cell_type": "code",
   "execution_count": null,
   "id": "incorporate-louis",
   "metadata": {},
   "outputs": [],
   "source": []
  },
  {
   "cell_type": "code",
   "execution_count": null,
   "id": "fuzzy-burton",
   "metadata": {},
   "outputs": [],
   "source": []
  },
  {
   "cell_type": "code",
   "execution_count": null,
   "id": "complex-science",
   "metadata": {},
   "outputs": [],
   "source": []
  },
  {
   "cell_type": "code",
   "execution_count": null,
   "id": "superb-guess",
   "metadata": {},
   "outputs": [],
   "source": []
  },
  {
   "cell_type": "code",
   "execution_count": null,
   "id": "flying-skill",
   "metadata": {},
   "outputs": [],
   "source": []
  },
  {
   "cell_type": "code",
   "execution_count": null,
   "id": "incorporated-monitoring",
   "metadata": {},
   "outputs": [],
   "source": []
  },
  {
   "cell_type": "code",
   "execution_count": null,
   "id": "friendly-termination",
   "metadata": {},
   "outputs": [],
   "source": []
  },
  {
   "cell_type": "code",
   "execution_count": null,
   "id": "limiting-mouse",
   "metadata": {},
   "outputs": [],
   "source": []
  }
 ],
 "metadata": {
  "kernelspec": {
   "display_name": "eff_loc",
   "language": "python",
   "name": "eff_loc"
  }
 },
 "nbformat": 4,
 "nbformat_minor": 5
}
